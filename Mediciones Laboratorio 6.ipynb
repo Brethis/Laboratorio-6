{
 "cells": [
  {
   "cell_type": "code",
   "execution_count": 1,
   "metadata": {},
   "outputs": [
    {
     "name": "stdout",
     "output_type": "stream",
     "text": [
      "Defaulting to user installation because normal site-packages is not writeable\n",
      "Requirement already satisfied: uncertainties in ./.local/lib/python3.6/site-packages (3.1.7)\n",
      "Requirement already satisfied: future in ./.local/lib/python3.6/site-packages (from uncertainties) (1.0.0)\n"
     ]
    }
   ],
   "source": [
    "!pip install uncertainties"
   ]
  },
  {
   "cell_type": "code",
   "execution_count": 2,
   "metadata": {},
   "outputs": [],
   "source": [
    "import numpy as np\n",
    "import uncertainties as uc\n",
    "import uncertainties.umath as um\n",
    "from uncertainties import unumpy\n",
    "import uncertainties.unumpy as unumpy"
   ]
  },
  {
   "cell_type": "markdown",
   "metadata": {},
   "source": [
    "Mediciones del sistema (masas, longitudes, etc.)"
   ]
  },
  {
   "cell_type": "code",
   "execution_count": 3,
   "metadata": {},
   "outputs": [],
   "source": [
    "g = 9.792 #gravedad"
   ]
  },
  {
   "cell_type": "code",
   "execution_count": 6,
   "metadata": {},
   "outputs": [],
   "source": [
    "#Resortes k1 y k2, calculados utilizando Ley de Hooke\n",
    "\n",
    "peso_masa = 0.347 * g #peso de la masa utilizada para la Ley de Hooke [N]\n",
    "des_x_1 = 0.160 - 0.105 #delta x para el resorte k1 [m]\n",
    "des_x_2= 0.165 - 0.110 #delta x para el resorte k2 [m]\n",
    "k1 = peso_masa/des_x_1\n",
    "k2 = peso_masa/des_x_2\n",
    "\n",
    "#Resorte k3, calculado utilizando periodo de oscilacion\n",
    "\n",
    "T_grupo = [6.96,6.94,6.90,6.89,6.89,6.84,6.89,6.89,6.83,6.89] #para el resorte k3 se midio el periodo en 10 grupos de 15 oscilaciones cada uno. [s]\n",
    "m_k3 = 0.038 #masa utilizada para las oscilaciones [kg]\n",
    "for i in range(len(T_grupo)):\n",
    "  T_mean = uc.ufloat(np.mean(T_grupo[i])/15, 0.05) #periodo del resorte con la masa m_k3 [s]\n",
    "\n",
    "k3 = (2*np.pi)**2*m_k3/T_mean**2\n",
    "\n",
    "#Longitudes [m]\n",
    "\n",
    "L12 = uc.ufloat(0.405, 0.01) #longitud desde el pivote hasta el punto de contacto de la fuerza k1 y k2\n",
    "L3 = uc.ufloat(0.436, 0.001) #longitud desde el pivote hasta el punto de contacto de la fuerza k3\n",
    "r_cm = uc.ufloat(0.337, 0.001) #longitud desde el pivote hasta el centro de masa del pendulo\n",
    "\n",
    "#Masa [kg]\n",
    "\n",
    "m_pendulo = uc.ufloat(0.1600,0.0001) #masa del pendulo\n",
    "\n",
    "#Periodos [s]\n",
    "\n",
    "T_grupo_I = [18.29,18.20,17.97,18.27,18.30,18.29,18.32,18.40,18.23] #para el momento de inercia se midio el periodo en 10 grupos de oscilaciones, de 15 oscilaciones cada uno\n",
    "T_I = uc.ufloat(np.mean(T_grupo_I)/15, np.std(T_grupo_I)/15) #periodo del pendulo sin amortiguacion ni fuerzas externas aparte de la gravedad\n",
    "\n",
    "#Momento de Inercia [kgm^2]\n",
    "\n",
    "I = (m_pendulo*g*r_cm*T_I**2)/(4*np.pi**2) \n",
    "\n",
    "#Excentricidad del motor [cm]\n",
    "\n",
    "e = uc.ufloat(0.5,0.05)\n",
    "\n",
    "#Fuerza maxima generada por el motor [N]\n",
    "\n",
    "F0  = uc.ufloat(0.5,0.05)/100 * k3 "
   ]
  }
 ],
 "metadata": {
  "kernelspec": {
   "display_name": "Python 3",
   "language": "python",
   "name": "python3"
  },
  "language_info": {
   "codemirror_mode": {
    "name": "ipython",
    "version": 3
   },
   "file_extension": ".py",
   "mimetype": "text/x-python",
   "name": "python",
   "nbconvert_exporter": "python",
   "pygments_lexer": "ipython3",
   "version": "3.6.9"
  }
 },
 "nbformat": 4,
 "nbformat_minor": 4
}
