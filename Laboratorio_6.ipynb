{
  "nbformat": 4,
  "nbformat_minor": 0,
  "metadata": {
    "colab": {
      "provenance": []
    },
    "kernelspec": {
      "name": "python3",
      "display_name": "Python 3"
    },
    "language_info": {
      "name": "python"
    }
  },
  "cells": [
    {
      "cell_type": "markdown",
      "source": [
        "#Laboratorio 6: Oscilaciones forzadas amortiguadas.\n"
      ],
      "metadata": {
        "id": "aKjzwUrkyhGR"
      }
    },
    {
      "cell_type": "markdown",
      "source": [
        "La ecuación diferencial original que describe el sistema es:\n",
        "\n",
        "\\begin{equation}\n",
        "I\\ddot{\\theta} + b\\dot{\\theta} + I\\omega_n^2 \\theta = F_0 L \\cos(\\omega t)\n",
        "\\end{equation}\n",
        "\n",
        "Dividiendo la ecuación por $I$ y reescribiendo el coeficiente de amortiguamiento $b$ en términos del factor de amortiguamiento $\\beta = \\frac{b}{2I}$, la ecuación se convierte en:\n",
        "\n",
        "\\begin{equation}\n",
        "\\ddot{\\theta} + 2\\beta \\dot{\\theta} + \\omega_n^2 \\theta = \\frac{F_0 L}{I} \\cos(\\omega t)\n",
        "\\end{equation}\n",
        "\n",
        "Para encontrar la amplitud de la solución en estado estacionario, suponemos una solución de la forma $\\theta(t) = \\eta(\\omega) e^{-i\\omega t}$ y tratamos el coseno como la parte real de una exponencial compleja: $\\cos(\\omega t) = \\text{Re}(e^{i\\omega t})$.\n",
        "\n",
        "Sustituyendo esto en la ecuación diferencial, obtenemos:\n",
        "\n",
        "\\begin{equation}\n",
        "-I\\omega^2 \\eta(\\omega) e^{-i\\omega t} + 2\\beta(-i\\omega \\eta(\\omega) e^{-i\\omega t}) + \\omega_n^2 \\eta(\\omega) e^{-i\\omega t} = \\frac{F_0 L}{I} e^{-i\\omega t}\n",
        "\\end{equation}\n",
        "\n",
        "Dividiendo ambos lados por $e^{-i\\omega t}$ y resolviendo para $\\eta(\\omega)$:\n",
        "\n",
        "\\begin{equation}\n",
        "\\eta(\\omega) = \\frac{\\frac{F_0 L}{I}}{\\omega_n^2 - \\omega^2 + 2i\\beta \\omega}\n",
        "\\end{equation}\n",
        "\n",
        "La amplitud de la respuesta es el módulo de $\\eta(\\omega)$:\n",
        "\n",
        "\\begin{equation}\n",
        "|\\eta(\\omega)| = \\frac{\\frac{F_0 L}{I}}{\\sqrt{(\\omega_n^2 - \\omega^2)^2 + (2\\beta \\omega)^2}} = \\frac{F_0 L / I}{\\sqrt{(\\omega_n^2 - \\omega^2)^2 + 4\\beta^2 \\omega^2}}\n",
        "\\end{equation}\n",
        "\n",
        "Haciendo un cambio de variable donde $\\omega_{\\text{res}}^2 = \\omega_n^2 - 2\\beta^2$, obtenemos:\n",
        "\n",
        "\\begin{equation}\n",
        "|\\eta(\\omega)| = \\frac{F_0 L / I}{\\sqrt{(\\omega^2 - \\omega_{\\text{res}}^2)^2 + 4\\beta^2(\\omega_n^2 - \\beta^2)}}\n",
        "\\end{equation}\n",
        "\n",
        "Dado que $|\\eta(\\omega)|$ proviene de la solución de $\\theta(t)$, la amplitud medida en el sistema, considerando que el desplazamiento angular pequeño es $L\\sin(\\theta(t))$ y aproximadamente $L\\theta(t)$, es:\n",
        "\n",
        "\\begin{equation}\n",
        "A(\\omega) = |\\eta(\\omega)|L = \\frac{F_0 L^2}{I \\sqrt{(\\omega^2 - \\omega_{\\text{res}}^2)^2 + 4\\beta^2(\\omega_n^2 - \\beta^2)}}\n",
        "\\end{equation}\n",
        "\n",
        "Esta es la expresión de la amplitud del movimiento en el estado estacionario en función de la frecuencia de excitación $\\omega$."
      ],
      "metadata": {
        "id": "6azldQDUyp3Y"
      }
    },
    {
      "cell_type": "code",
      "source": [
        "!pip install uncertainties"
      ],
      "metadata": {
        "colab": {
          "base_uri": "https://localhost:8080/"
        },
        "id": "4cE3-kYyVhZ1",
        "outputId": "479fe6b2-2254-405e-c731-900a9f67694e"
      },
      "execution_count": 1,
      "outputs": [
        {
          "output_type": "stream",
          "name": "stdout",
          "text": [
            "Collecting uncertainties\n",
            "  Downloading uncertainties-3.2.1-py3-none-any.whl (57 kB)\n",
            "\u001b[2K     \u001b[90m━━━━━━━━━━━━━━━━━━━━━━━━━━━━━━━━━━━━━━━━\u001b[0m \u001b[32m57.9/57.9 kB\u001b[0m \u001b[31m965.4 kB/s\u001b[0m eta \u001b[36m0:00:00\u001b[0m\n",
            "\u001b[?25hInstalling collected packages: uncertainties\n",
            "Successfully installed uncertainties-3.2.1\n"
          ]
        }
      ]
    },
    {
      "cell_type": "code",
      "source": [
        "import numpy as np\n",
        "import matplotlib.pyplot as plt\n",
        "import uncertainties as uc\n",
        "import uncertainties.umath as um\n",
        "from scipy.optimize import curve_fit\n",
        "from scipy.stats import t\n",
        "from uncertainties import unumpy\n",
        "import uncertainties.unumpy as unumpy\n",
        "import pandas as pd\n",
        "from google.colab import files"
      ],
      "metadata": {
        "id": "m1lDWggnVaT2"
      },
      "execution_count": 2,
      "outputs": []
    },
    {
      "cell_type": "code",
      "source": [
        "#k1\n",
        "#T_grupo : 15 oscilaciones\n",
        "T_grupo = [6.96,6.94,6.90,6.89,6.89,6.84,6.89,6.89,6.83,6.89]\n",
        "m_k1 = 0.038\n",
        "\n",
        "#k1 = []\n",
        "#for i in range(len(T_grupo)):\n",
        "#  k1.append(4*np.pi*m_k1/T_grupo[i]**2)\n",
        "#print(k1)"
      ],
      "metadata": {
        "id": "pkaZcOxzdDaO"
      },
      "execution_count": 3,
      "outputs": []
    },
    {
      "cell_type": "code",
      "source": [
        "#for i in range(len(k1)):\n",
        "#  k1_media = np.mean(k1[i])\n",
        "#  k1_std = np.std(k1[i])\n",
        "\n",
        "#print(k1_media)\n",
        "#print(k1_std)"
      ],
      "metadata": {
        "id": "xaODQ_ZxffeI"
      },
      "execution_count": 4,
      "outputs": []
    },
    {
      "cell_type": "code",
      "source": [
        "for i in range(len(T_grupo)):\n",
        "  T_mean = uc.ufloat(np.mean(T_grupo[i])/15, 0.05)\n",
        "\n",
        "print(T_mean)\n",
        "\n",
        "k3 = (2*np.pi)**2*m_k1/T_mean**2\n",
        "print(k3)"
      ],
      "metadata": {
        "colab": {
          "base_uri": "https://localhost:8080/"
        },
        "id": "ndS8rieogNuj",
        "outputId": "d75456f4-a608-4497-a778-faee93049f8e"
      },
      "execution_count": 5,
      "outputs": [
        {
          "output_type": "stream",
          "name": "stdout",
          "text": [
            "0.46+/-0.05\n",
            "7.1+/-1.5\n"
          ]
        }
      ]
    },
    {
      "cell_type": "code",
      "execution_count": 6,
      "metadata": {
        "colab": {
          "base_uri": "https://localhost:8080/"
        },
        "id": "I196quEGUfUC",
        "outputId": "3bb056ab-aa21-44fe-cec6-9b44fd5e86c1"
      },
      "outputs": [
        {
          "output_type": "stream",
          "name": "stdout",
          "text": [
            "62+/-6\n",
            "62+/-6\n"
          ]
        }
      ],
      "source": [
        "g = 9.792\n",
        "peso_masa = uc.ufloat(0.347,0.005) * g\n",
        "#des_x_1\n",
        "des_x_2 = uc.ufloat(0.160 - 0.105,0.005) #marcado, plastico\n",
        "des_x_3 = uc.ufloat(0.165 - 0.110,0.005) #no marcado, plastico\n",
        "\n",
        "#k_1\n",
        "k1 = peso_masa/des_x_2\n",
        "\n",
        "k2 = peso_masa/des_x_3\n",
        "print(k1)\n",
        "print(k2)"
      ]
    },
    {
      "cell_type": "code",
      "source": [
        "#frecuencia natural\n",
        "L12 = uc.ufloat(0.405, 0.01) #longitud desde el pivote hasta el punto de contacto de la fuerza k1 y k2\n",
        "L3 = uc.ufloat(0.436, 0.001) #longitud desde el pivote hasta el punto de contacto de la fuerza k3\n",
        "r_cm = uc.ufloat(0.337, 0.001) #longitud desde el pivote hasta el centro de masa del pendulo\n",
        "m_pendulo = uc.ufloat(0.1600,0.0001) #masa del pendulo\n",
        "#para el momento de inercia se mide el periodo en 10 grupos de oscilaciones, de 15 oscilaciones cada uno\n",
        "T_grupo_I = [18.29,18.20,17.97,18.27,18.30,18.29,18.32,18.40,18.23]\n",
        "T_I = uc.ufloat(np.mean(T_grupo_I)/15, np.std(T_grupo_I)/15)\n",
        "print(T_I)\n",
        "I = (m_pendulo*g*r_cm*T_I**2)/(4*np.pi**2)\n",
        "print(I)\n",
        "f_nat = um.sqrt(((k3*L3**2+(k1+k2)*L12**2+r_cm*m_pendulo*g)/I))/(2*np.pi)\n",
        "print(f_nat)\n",
        "#fuerza aplicada al pendulo\n",
        "#F0 = radio de giro del motor * k_resorte\n",
        "F0  = uc.ufloat(0.5,0.05) /100 * k3 #[N]"
      ],
      "metadata": {
        "id": "w4HtjVE5y91n",
        "colab": {
          "base_uri": "https://localhost:8080/"
        },
        "outputId": "930d3a3b-783c-42a8-b268-ddafc1e1bccb"
      },
      "execution_count": 7,
      "outputs": [
        {
          "output_type": "stream",
          "name": "stdout",
          "text": [
            "1.217+/-0.008\n",
            "0.01980+/-0.00025\n",
            "5.32+/-0.21\n"
          ]
        }
      ]
    },
    {
      "cell_type": "code",
      "source": [
        "V = [0.100, 0.105, 0.136, 0.175, 0.200, 0.300, 0.650, 0.270, 0.220, 0.150, 0.107, 0.100, 0.072]\n",
        "f = np.array([2.0, 2.1, 2.2, 2.3, 2.4, 2.5, 2.6, 2.7, 2.8, 2.9, 3.0, 3.1, 3.2])\n",
        "A = np.array([0.7, 0.9, 1.2, 1.5, 2.0, 5.0, linear_func(V[6], params[0], params[1]), linear_func(V[7], params[0], params[1]), linear_func(V[8], params[0], params[1]), linear_func(V[9], params[0], params[1]), linear_func(V[10], params[0], params[1]), linear_func(V[11], params[0], params[1]), linear_func(V[12], params[0], params[1])]) #las amplitudes no medidas se infieren con regresion lineal de estos datos\n",
        "A_m = A/100\n",
        "#plt.plot(f_exp,V_A_exp,'ro')\n",
        "plt.plot(f,A,'bo')\n",
        "plt.xlabel('f[Hz]')\n",
        "plt.ylabel('A[cm]')\n",
        "#plt.plot(f,V,'go')\n",
        "plt.grid()\n",
        "\n",
        "df = pd.DataFrame({'V [V]': V, 'f [Hz]': f,'A [m]': A_m})\n",
        "df.to_csv('output.csv', index=False)"
      ],
      "metadata": {
        "id": "hJYKZpA2Onfg",
        "colab": {
          "base_uri": "https://localhost:8080/",
          "height": 449
        },
        "outputId": "c8228c87-27dd-4b6c-d1c3-9c00a4bda6fc"
      },
      "execution_count": 10,
      "outputs": [
        {
          "output_type": "display_data",
          "data": {
            "text/plain": [
              "<Figure size 640x480 with 1 Axes>"
            ],
            "image/png": "[encoded data removed]"
          },
          "metadata": {}
        }
      ]
    },
    {
      "cell_type": "code",
      "source": [
        "files.download('output.csv')"
      ],
      "metadata": {
        "id": "zoMlUN802KHW"
      },
      "execution_count": null,
      "outputs": []
    },
    {
      "cell_type": "code",
      "source": [
        "def linear_func(x, m, c):\n",
        "    return m * x + c\n",
        "\n",
        "V = np.array([0.100, 0.105, 0.136, 0.175, 0.200])\n",
        "A = np.array([0.7, 0.9, 1.2, 1.5, 2.0])\n",
        "\n",
        "params, _ = curve_fit(linear_func, V, A)\n",
        "\n",
        "m, c = params\n",
        "\n",
        "A_pred_curve_fit = linear_func(V, m, c)\n",
        "\n",
        "plt.scatter(V, A, color='blue', label='Datos reales')\n",
        "plt.plot(V, A_pred_curve_fit, color='red', label='Línea de regresión')\n",
        "plt.xlabel('V')\n",
        "plt.ylabel('A')\n",
        "plt.legend()\n",
        "plt.show()\n",
        "\n",
        "m, c"
      ],
      "metadata": {
        "id": "w-BYWNY43srf",
        "colab": {
          "base_uri": "https://localhost:8080/",
          "height": 466
        },
        "outputId": "89e58ad3-0175-4946-8305-dcc0c684eac5"
      },
      "execution_count": 9,
      "outputs": [
        {
          "output_type": "display_data",
          "data": {
            "text/plain": [
              "<Figure size 640x480 with 1 Axes>"
            ],
            "image/png": "[encoded data removed]"
          },
          "metadata": {}
        },
        {
          "output_type": "execute_result",
          "data": {
            "text/plain": [
              "(11.561695679679936, -0.3956348213301671)"
            ]
          },
          "metadata": {},
          "execution_count": 9
        }
      ]
    },
    {
      "cell_type": "code",
      "source": [
        "def AmplitudMec(x,Beta):\n",
        "  g = 9.79199554\n",
        "  Tg = g*m_pendulo*r_cm\n",
        "  wn2 = ((k1+k2) * L12**2 +k3*L3**2+ Tg)/(4*I) #se multiplica por 4 para probar un factor que puede llegar a faltar.\n",
        "  w = x*2*np.pi\n",
        "  wr2 = (uc.ufloat(2.6,0.05)*2*np.pi)**2\n",
        "\n",
        "  Denominador = I * ((w**2 - wr2)**2 + 4*Beta**2*(wn2+Beta*2))**0.5/2\n",
        "  return unumpy.nominal_values(F0*L3**2 / Denominador)\n",
        "\n",
        "\n",
        "gamma = 0.01\n",
        "tn1    = t.ppf(1-gamma/2,len(A)-1)\n",
        "\n",
        "popt, pcov = curve_fit(AmplitudMec,f,A_m,bounds=(0,np.inf))\n",
        "Beta = uc.ufloat(popt[0],tn1*pcov[0][0]**0.5)\n",
        "\n",
        "print(f'El valor de Beta es {Beta}')"
      ],
      "metadata": {
        "colab": {
          "base_uri": "https://localhost:8080/"
        },
        "id": "-N4eXVn2TQqo",
        "outputId": "4e545df1-b5dd-4a8e-9e47-2112c335bf0d"
      },
      "execution_count": 11,
      "outputs": [
        {
          "output_type": "stream",
          "name": "stdout",
          "text": [
            "El valor de Beta es 0.28+/-0.07\n"
          ]
        }
      ]
    },
    {
      "cell_type": "code",
      "source": [
        "f_curva = np.linspace(2,3.3,1000)\n",
        "plt.plot(f,A_m,'bo',label='Mediciones')\n",
        "plt.plot(f_curva,AmplitudMec(f_curva,Beta),'r-',label='Ajuste')\n",
        "plt.grid()\n",
        "plt.xlabel('f [Hz]')\n",
        "plt.ylabel('A [m]')\n",
        "plt.legend()"
      ],
      "metadata": {
        "colab": {
          "base_uri": "https://localhost:8080/",
          "height": 466
        },
        "id": "R2SGCSUyZviw",
        "outputId": "e361261a-8a42-42dd-cc11-8ceddacb52bf"
      },
      "execution_count": 12,
      "outputs": [
        {
          "output_type": "execute_result",
          "data": {
            "text/plain": [
              "<matplotlib.legend.Legend at 0x7d9272f10a30>"
            ]
          },
          "metadata": {},
          "execution_count": 12
        },
        {
          "output_type": "display_data",
          "data": {
            "text/plain": [
              "<Figure size 640x480 with 1 Axes>"
            ],
            "image/png": "[encoded data removed]"
          },
          "metadata": {}
        }
      ]
    },
    {
      "cell_type": "code",
      "source": [
        "Tg = g*m_pendulo*r_cm\n",
        "wn2 = um.sqrt(((k1+k2) * L12**2 +k3*L3**2+ Tg)/(I))/(4*np.pi)\n",
        "print(wn2)\n",
        "print(AmplitudMec(f,Beta))\n",
        "wr2 = (uc.ufloat(2.6,0.05)*2*np.pi)**2\n",
        "print(um.sqrt(wr2)/(2*np.pi))"
      ],
      "metadata": {
        "colab": {
          "base_uri": "https://localhost:8080/"
        },
        "id": "rYOe6mB_byHu",
        "outputId": "53391c2b-c34b-4025-dbc0-98cec74ec285"
      },
      "execution_count": 13,
      "outputs": [
        {
          "output_type": "stream",
          "name": "stdout",
          "text": [
            "2.66+/-0.10\n",
            "[0.00624124 0.00731989 0.00893665 0.01161044 0.01681957 0.0307185\n",
            " 0.07261262 0.02975714 0.01563363 0.01037124 0.00767542 0.00604554\n",
            " 0.00495675]\n",
            "2.60+/-0.05\n"
          ]
        }
      ]
    }
  ]
}